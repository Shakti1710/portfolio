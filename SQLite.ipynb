{
 "cells": [
  {
   "cell_type": "markdown",
   "metadata": {},
   "source": [
    "<h2>SQL</h2>\n",
    "In this notebook, I used a sample database which includes music track sales, employee, and customer information in multiple tables (the database file is chinook.db). By using both SQL queries and python commands, I looked into the followings.\n",
    "\n",
    "<ol>\n",
    "    <li>The most popular genre</li>\n",
    "    <li>The sales support agent who contributes to the sales the most</li>\n",
    "    <li>The customer information for each country</li>\n",
    "    <li>The trend of music track purchase</li>\n",
    "</ol>"
   ]
  },
  {
   "cell_type": "code",
   "execution_count": 1,
   "metadata": {
    "collapsed": true
   },
   "outputs": [],
   "source": [
    "import sqlite3\n",
    "import pandas as pd\n",
    "import matplotlib.pyplot as plt\n",
    "%matplotlib inline"
   ]
  },
  {
   "cell_type": "code",
   "execution_count": 2,
   "metadata": {
    "collapsed": true
   },
   "outputs": [],
   "source": [
    "def run_query(q):\n",
    "    with sqlite3.connect('chinook.db') as conn:\n",
    "        return pd.read_sql(q, conn)"
   ]
  },
  {
   "cell_type": "code",
   "execution_count": 3,
   "metadata": {
    "collapsed": true
   },
   "outputs": [],
   "source": [
    "def run_command(c):\n",
    "    with sqlite3.connect('chinook.db') as conn:\n",
    "        conn.isolation_level = None\n",
    "        conn.execute(c)"
   ]
  },
  {
   "cell_type": "code",
   "execution_count": 4,
   "metadata": {
    "collapsed": true
   },
   "outputs": [],
   "source": [
    "def show_tables():\n",
    "    q = '''\n",
    "    SELECT\n",
    "        name, \n",
    "        type \n",
    "    FROM sqlite_master \n",
    "    WHERE type IN (\"table\",\"view\");\n",
    "    '''\n",
    "    return run_query(q)"
   ]
  },
  {
   "cell_type": "code",
   "execution_count": 5,
   "metadata": {},
   "outputs": [
    {
     "data": {
      "text/html": [
       "<div>\n",
       "<table border=\"1\" class=\"dataframe\">\n",
       "  <thead>\n",
       "    <tr style=\"text-align: right;\">\n",
       "      <th></th>\n",
       "      <th>name</th>\n",
       "      <th>type</th>\n",
       "    </tr>\n",
       "  </thead>\n",
       "  <tbody>\n",
       "    <tr>\n",
       "      <th>0</th>\n",
       "      <td>album</td>\n",
       "      <td>table</td>\n",
       "    </tr>\n",
       "    <tr>\n",
       "      <th>1</th>\n",
       "      <td>artist</td>\n",
       "      <td>table</td>\n",
       "    </tr>\n",
       "    <tr>\n",
       "      <th>2</th>\n",
       "      <td>customer</td>\n",
       "      <td>table</td>\n",
       "    </tr>\n",
       "    <tr>\n",
       "      <th>3</th>\n",
       "      <td>employee</td>\n",
       "      <td>table</td>\n",
       "    </tr>\n",
       "    <tr>\n",
       "      <th>4</th>\n",
       "      <td>genre</td>\n",
       "      <td>table</td>\n",
       "    </tr>\n",
       "    <tr>\n",
       "      <th>5</th>\n",
       "      <td>invoice</td>\n",
       "      <td>table</td>\n",
       "    </tr>\n",
       "    <tr>\n",
       "      <th>6</th>\n",
       "      <td>invoice_line</td>\n",
       "      <td>table</td>\n",
       "    </tr>\n",
       "    <tr>\n",
       "      <th>7</th>\n",
       "      <td>media_type</td>\n",
       "      <td>table</td>\n",
       "    </tr>\n",
       "    <tr>\n",
       "      <th>8</th>\n",
       "      <td>playlist</td>\n",
       "      <td>table</td>\n",
       "    </tr>\n",
       "    <tr>\n",
       "      <th>9</th>\n",
       "      <td>playlist_track</td>\n",
       "      <td>table</td>\n",
       "    </tr>\n",
       "    <tr>\n",
       "      <th>10</th>\n",
       "      <td>track</td>\n",
       "      <td>table</td>\n",
       "    </tr>\n",
       "  </tbody>\n",
       "</table>\n",
       "</div>"
      ],
      "text/plain": [
       "              name   type\n",
       "0            album  table\n",
       "1           artist  table\n",
       "2         customer  table\n",
       "3         employee  table\n",
       "4            genre  table\n",
       "5          invoice  table\n",
       "6     invoice_line  table\n",
       "7       media_type  table\n",
       "8         playlist  table\n",
       "9   playlist_track  table\n",
       "10           track  table"
      ]
     },
     "execution_count": 5,
     "metadata": {},
     "output_type": "execute_result"
    }
   ],
   "source": [
    "show_tables()"
   ]
  },
  {
   "cell_type": "markdown",
   "metadata": {},
   "source": [
    "<h3>1. Popular genre</h3>"
   ]
  },
  {
   "cell_type": "code",
   "execution_count": 6,
   "metadata": {},
   "outputs": [
    {
     "data": {
      "text/html": [
       "<div>\n",
       "<table border=\"1\" class=\"dataframe\">\n",
       "  <thead>\n",
       "    <tr style=\"text-align: right;\">\n",
       "      <th></th>\n",
       "      <th>genre</th>\n",
       "      <th>Number_of_tracks</th>\n",
       "      <th>Percentage</th>\n",
       "    </tr>\n",
       "  </thead>\n",
       "  <tbody>\n",
       "    <tr>\n",
       "      <th>0</th>\n",
       "      <td>Rock</td>\n",
       "      <td>2635</td>\n",
       "      <td>0.553921</td>\n",
       "    </tr>\n",
       "    <tr>\n",
       "      <th>1</th>\n",
       "      <td>Metal</td>\n",
       "      <td>619</td>\n",
       "      <td>0.130124</td>\n",
       "    </tr>\n",
       "    <tr>\n",
       "      <th>2</th>\n",
       "      <td>Alternative &amp; Punk</td>\n",
       "      <td>492</td>\n",
       "      <td>0.103427</td>\n",
       "    </tr>\n",
       "    <tr>\n",
       "      <th>3</th>\n",
       "      <td>Latin</td>\n",
       "      <td>167</td>\n",
       "      <td>0.035106</td>\n",
       "    </tr>\n",
       "    <tr>\n",
       "      <th>4</th>\n",
       "      <td>R&amp;B/Soul</td>\n",
       "      <td>159</td>\n",
       "      <td>0.033424</td>\n",
       "    </tr>\n",
       "    <tr>\n",
       "      <th>5</th>\n",
       "      <td>Blues</td>\n",
       "      <td>124</td>\n",
       "      <td>0.026067</td>\n",
       "    </tr>\n",
       "    <tr>\n",
       "      <th>6</th>\n",
       "      <td>Jazz</td>\n",
       "      <td>121</td>\n",
       "      <td>0.025436</td>\n",
       "    </tr>\n",
       "    <tr>\n",
       "      <th>7</th>\n",
       "      <td>Alternative</td>\n",
       "      <td>117</td>\n",
       "      <td>0.024595</td>\n",
       "    </tr>\n",
       "    <tr>\n",
       "      <th>8</th>\n",
       "      <td>Easy Listening</td>\n",
       "      <td>74</td>\n",
       "      <td>0.015556</td>\n",
       "    </tr>\n",
       "    <tr>\n",
       "      <th>9</th>\n",
       "      <td>Pop</td>\n",
       "      <td>63</td>\n",
       "      <td>0.013244</td>\n",
       "    </tr>\n",
       "    <tr>\n",
       "      <th>10</th>\n",
       "      <td>Electronica/Dance</td>\n",
       "      <td>55</td>\n",
       "      <td>0.011562</td>\n",
       "    </tr>\n",
       "    <tr>\n",
       "      <th>11</th>\n",
       "      <td>Classical</td>\n",
       "      <td>47</td>\n",
       "      <td>0.009880</td>\n",
       "    </tr>\n",
       "    <tr>\n",
       "      <th>12</th>\n",
       "      <td>Reggae</td>\n",
       "      <td>35</td>\n",
       "      <td>0.007358</td>\n",
       "    </tr>\n",
       "    <tr>\n",
       "      <th>13</th>\n",
       "      <td>Hip Hop/Rap</td>\n",
       "      <td>33</td>\n",
       "      <td>0.006937</td>\n",
       "    </tr>\n",
       "    <tr>\n",
       "      <th>14</th>\n",
       "      <td>Heavy Metal</td>\n",
       "      <td>8</td>\n",
       "      <td>0.001682</td>\n",
       "    </tr>\n",
       "    <tr>\n",
       "      <th>15</th>\n",
       "      <td>Soundtrack</td>\n",
       "      <td>5</td>\n",
       "      <td>0.001051</td>\n",
       "    </tr>\n",
       "    <tr>\n",
       "      <th>16</th>\n",
       "      <td>TV Shows</td>\n",
       "      <td>2</td>\n",
       "      <td>0.000420</td>\n",
       "    </tr>\n",
       "    <tr>\n",
       "      <th>17</th>\n",
       "      <td>Drama</td>\n",
       "      <td>1</td>\n",
       "      <td>0.000210</td>\n",
       "    </tr>\n",
       "  </tbody>\n",
       "</table>\n",
       "</div>"
      ],
      "text/plain": [
       "                 genre  Number_of_tracks  Percentage\n",
       "0                 Rock              2635    0.553921\n",
       "1                Metal               619    0.130124\n",
       "2   Alternative & Punk               492    0.103427\n",
       "3                Latin               167    0.035106\n",
       "4             R&B/Soul               159    0.033424\n",
       "5                Blues               124    0.026067\n",
       "6                 Jazz               121    0.025436\n",
       "7          Alternative               117    0.024595\n",
       "8       Easy Listening                74    0.015556\n",
       "9                  Pop                63    0.013244\n",
       "10   Electronica/Dance                55    0.011562\n",
       "11           Classical                47    0.009880\n",
       "12              Reggae                35    0.007358\n",
       "13         Hip Hop/Rap                33    0.006937\n",
       "14         Heavy Metal                 8    0.001682\n",
       "15          Soundtrack                 5    0.001051\n",
       "16            TV Shows                 2    0.000420\n",
       "17               Drama                 1    0.000210"
      ]
     },
     "execution_count": 6,
     "metadata": {},
     "output_type": "execute_result"
    }
   ],
   "source": [
    "q = '''\n",
    "WITH \n",
    "    track_genre AS\n",
    "        (\n",
    "        SELECT \n",
    "            g.name genre,\n",
    "            t.track_id\n",
    "        FROM genre g\n",
    "        INNER JOIN track t\n",
    "        ON t.genre_id = g.genre_id\n",
    "        ),\n",
    "    \n",
    "    invoice_track_genre AS\n",
    "        (\n",
    "        SELECT\n",
    "            i.track_id,\n",
    "            tg.genre\n",
    "        FROM invoice_line i\n",
    "        LEFT JOIN track_genre tg\n",
    "        ON i.track_id = tg.track_id\n",
    "        )\n",
    "\n",
    "SELECT\n",
    "    genre,\n",
    "    COUNT(genre) Number_of_tracks,\n",
    "    COUNT(genre)*1.0/(SELECT COUNT(*) FROM invoice_track_genre) Percentage\n",
    "FROM invoice_track_genre\n",
    "GROUP BY genre\n",
    "ORDER BY Percentage DESC\n",
    ";\n",
    "'''\n",
    "run_query(q)"
   ]
  },
  {
   "cell_type": "code",
   "execution_count": 7,
   "metadata": {},
   "outputs": [
    {
     "data": {
      "text/plain": [
       "<matplotlib.axes._subplots.AxesSubplot at 0x7f1c4818ff98>"
      ]
     },
     "execution_count": 7,
     "metadata": {},
     "output_type": "execute_result"
    },
    {
     "data": {
      "image/png": "[encoded data removed]",
      "text/plain": [
       "<matplotlib.figure.Figure at 0x7f1c4813b2e8>"
      ]
     },
     "metadata": {},
     "output_type": "display_data"
    }
   ],
   "source": [
    "genre_sales_usa = run_query(q)\n",
    "genre_sales_usa = genre_sales_usa.set_index(\"genre\")\n",
    "genre_sales_usa.plot(kind=\"bar\", y=\"Number_of_tracks\", \n",
    "                     rot=90, figsize=(10,5))"
   ]
  },
  {
   "cell_type": "code",
   "execution_count": 8,
   "metadata": {},
   "outputs": [
    {
     "data": {
      "text/plain": [
       "<matplotlib.axes._subplots.AxesSubplot at 0x7f1c4807c668>"
      ]
     },
     "execution_count": 8,
     "metadata": {},
     "output_type": "execute_result"
    },
    {
     "data": {
      "image/png": "[encoded data removed]",
      "text/plain": [
       "<matplotlib.figure.Figure at 0x7f1c4808b6d8>"
      ]
     },
     "metadata": {},
     "output_type": "display_data"
    }
   ],
   "source": [
    "genre_sales_usa[\"Percentage\"].plot(kind=\"bar\",\n",
    "                                rot=90, figsize=(10,5))"
   ]
  },
  {
   "cell_type": "markdown",
   "metadata": {},
   "source": [
    "Findings\n",
    "<ul>\n",
    "    <li>The sales of Rock music is more than half of the tolal seles.</li>\n",
    "    <li>Metal and Alternative & Punk music are ppular after Rock music.</li>\n",
    "    <li>Tracks in TV shows. Drama, and Soundtrack are not popular.</li>\n",
    "</ul>"
   ]
  },
  {
   "cell_type": "markdown",
   "metadata": {},
   "source": [
    "<h3>2. Performance for each sales support agent</h3>"
   ]
  },
  {
   "cell_type": "code",
   "execution_count": 9,
   "metadata": {},
   "outputs": [
    {
     "data": {
      "text/html": [
       "<div>\n",
       "<table border=\"1\" class=\"dataframe\">\n",
       "  <thead>\n",
       "    <tr style=\"text-align: right;\">\n",
       "      <th></th>\n",
       "      <th>employee_id</th>\n",
       "      <th>Name</th>\n",
       "      <th>birthdate</th>\n",
       "      <th>hire_date</th>\n",
       "      <th>Sales</th>\n",
       "    </tr>\n",
       "  </thead>\n",
       "  <tbody>\n",
       "    <tr>\n",
       "      <th>0</th>\n",
       "      <td>3</td>\n",
       "      <td>Jane Peacock</td>\n",
       "      <td>1973-08-29 00:00:00</td>\n",
       "      <td>2017-04-01 00:00:00</td>\n",
       "      <td>1731.51</td>\n",
       "    </tr>\n",
       "    <tr>\n",
       "      <th>1</th>\n",
       "      <td>4</td>\n",
       "      <td>Margaret Park</td>\n",
       "      <td>1947-09-19 00:00:00</td>\n",
       "      <td>2017-05-03 00:00:00</td>\n",
       "      <td>1584.00</td>\n",
       "    </tr>\n",
       "    <tr>\n",
       "      <th>2</th>\n",
       "      <td>5</td>\n",
       "      <td>Steve Johnson</td>\n",
       "      <td>1965-03-03 00:00:00</td>\n",
       "      <td>2017-10-17 00:00:00</td>\n",
       "      <td>1393.92</td>\n",
       "    </tr>\n",
       "  </tbody>\n",
       "</table>\n",
       "</div>"
      ],
      "text/plain": [
       "   employee_id           Name            birthdate            hire_date  \\\n",
       "0            3   Jane Peacock  1973-08-29 00:00:00  2017-04-01 00:00:00   \n",
       "1            4  Margaret Park  1947-09-19 00:00:00  2017-05-03 00:00:00   \n",
       "2            5  Steve Johnson  1965-03-03 00:00:00  2017-10-17 00:00:00   \n",
       "\n",
       "     Sales  \n",
       "0  1731.51  \n",
       "1  1584.00  \n",
       "2  1393.92  "
      ]
     },
     "execution_count": 9,
     "metadata": {},
     "output_type": "execute_result"
    }
   ],
   "source": [
    "q = '''\n",
    "WITH Sales_per_Employee AS\n",
    "    (SELECT \n",
    "        e.employee_id,\n",
    "        e.first_name || ' ' || e.last_name Name,\n",
    "        e.title,\n",
    "        e.hire_date,\n",
    "        e.birthdate,\n",
    "        c.customer_id,\n",
    "        i.total Total\n",
    "    FROM employee e\n",
    "    LEFT JOIN customer c\n",
    "    ON e.employee_id = c.support_rep_id\n",
    "    LEFT JOIN invoice i\n",
    "    ON c.customer_id = i.customer_id\n",
    "    WHERE title = \"Sales Support Agent\")\n",
    "\n",
    "SELECT\n",
    "    employee_id,\n",
    "    Name,\n",
    "    birthdate,\n",
    "    hire_date,\n",
    "    SUM(Total) Sales\n",
    "FROM Sales_per_Employee\n",
    "GROUP BY employee_id\n",
    "ORDER BY Sales Desc\n",
    ";\n",
    "'''\n",
    "run_query(q)"
   ]
  },
  {
   "cell_type": "code",
   "execution_count": 10,
   "metadata": {},
   "outputs": [
    {
     "data": {
      "text/plain": [
       "<matplotlib.axes._subplots.AxesSubplot at 0x7f1be600ff28>"
      ]
     },
     "execution_count": 10,
     "metadata": {},
     "output_type": "execute_result"
    },
    {
     "data": {
      "image/png": "[encoded data removed]",
      "text/plain": [
       "<matplotlib.figure.Figure at 0x7f1be5f94748>"
      ]
     },
     "metadata": {},
     "output_type": "display_data"
    }
   ],
   "source": [
    "employee_sales = run_query(q)\n",
    "employee_sales = employee_sales.set_index(\"employee_id\")\n",
    "employee_sales.plot(x=\"Name\", y=\"Sales\", kind=\"line\")    "
   ]
  },
  {
   "cell_type": "markdown",
   "metadata": {
    "collapsed": true
   },
   "source": [
    "Findings\n",
    "<ul>\n",
    "    <li>The sales by Jane is the largest of all.</li>\n",
    "    <li>Jane has worked since 4/1/2017, which is the longest of all.</li>\n",
    "    <li>Jane is the youngest.</li>\n",
    "</ul>\n",
    "\n",
    "Rock, Metal, and Alternamtive & Punk music are popular in the store from the result above. Probably the costomers might be young (20s - 30s), and she is in the same generation as them. Thus she might understand what customers want more than other sales support agents."
   ]
  },
  {
   "cell_type": "markdown",
   "metadata": {
    "collapsed": true
   },
   "source": [
    "<h3>3. Sales data for customers from each different country</h3>"
   ]
  },
  {
   "cell_type": "code",
   "execution_count": 11,
   "metadata": {},
   "outputs": [
    {
     "data": {
      "text/html": [
       "<div>\n",
       "<table border=\"1\" class=\"dataframe\">\n",
       "  <thead>\n",
       "    <tr style=\"text-align: right;\">\n",
       "      <th></th>\n",
       "      <th>country</th>\n",
       "      <th>number_of_customer</th>\n",
       "    </tr>\n",
       "  </thead>\n",
       "  <tbody>\n",
       "    <tr>\n",
       "      <th>0</th>\n",
       "      <td>Argentina</td>\n",
       "      <td>1</td>\n",
       "    </tr>\n",
       "    <tr>\n",
       "      <th>1</th>\n",
       "      <td>Australia</td>\n",
       "      <td>1</td>\n",
       "    </tr>\n",
       "    <tr>\n",
       "      <th>2</th>\n",
       "      <td>Austria</td>\n",
       "      <td>1</td>\n",
       "    </tr>\n",
       "    <tr>\n",
       "      <th>3</th>\n",
       "      <td>Belgium</td>\n",
       "      <td>1</td>\n",
       "    </tr>\n",
       "    <tr>\n",
       "      <th>4</th>\n",
       "      <td>Chile</td>\n",
       "      <td>1</td>\n",
       "    </tr>\n",
       "    <tr>\n",
       "      <th>5</th>\n",
       "      <td>Denmark</td>\n",
       "      <td>1</td>\n",
       "    </tr>\n",
       "    <tr>\n",
       "      <th>6</th>\n",
       "      <td>Finland</td>\n",
       "      <td>1</td>\n",
       "    </tr>\n",
       "    <tr>\n",
       "      <th>7</th>\n",
       "      <td>Hungary</td>\n",
       "      <td>1</td>\n",
       "    </tr>\n",
       "    <tr>\n",
       "      <th>8</th>\n",
       "      <td>Ireland</td>\n",
       "      <td>1</td>\n",
       "    </tr>\n",
       "    <tr>\n",
       "      <th>9</th>\n",
       "      <td>Italy</td>\n",
       "      <td>1</td>\n",
       "    </tr>\n",
       "    <tr>\n",
       "      <th>10</th>\n",
       "      <td>Netherlands</td>\n",
       "      <td>1</td>\n",
       "    </tr>\n",
       "    <tr>\n",
       "      <th>11</th>\n",
       "      <td>Norway</td>\n",
       "      <td>1</td>\n",
       "    </tr>\n",
       "    <tr>\n",
       "      <th>12</th>\n",
       "      <td>Poland</td>\n",
       "      <td>1</td>\n",
       "    </tr>\n",
       "    <tr>\n",
       "      <th>13</th>\n",
       "      <td>Spain</td>\n",
       "      <td>1</td>\n",
       "    </tr>\n",
       "    <tr>\n",
       "      <th>14</th>\n",
       "      <td>Sweden</td>\n",
       "      <td>1</td>\n",
       "    </tr>\n",
       "    <tr>\n",
       "      <th>15</th>\n",
       "      <td>Czech Republic</td>\n",
       "      <td>2</td>\n",
       "    </tr>\n",
       "    <tr>\n",
       "      <th>16</th>\n",
       "      <td>India</td>\n",
       "      <td>2</td>\n",
       "    </tr>\n",
       "    <tr>\n",
       "      <th>17</th>\n",
       "      <td>Portugal</td>\n",
       "      <td>2</td>\n",
       "    </tr>\n",
       "    <tr>\n",
       "      <th>18</th>\n",
       "      <td>United Kingdom</td>\n",
       "      <td>3</td>\n",
       "    </tr>\n",
       "    <tr>\n",
       "      <th>19</th>\n",
       "      <td>Germany</td>\n",
       "      <td>4</td>\n",
       "    </tr>\n",
       "    <tr>\n",
       "      <th>20</th>\n",
       "      <td>Brazil</td>\n",
       "      <td>5</td>\n",
       "    </tr>\n",
       "    <tr>\n",
       "      <th>21</th>\n",
       "      <td>France</td>\n",
       "      <td>5</td>\n",
       "    </tr>\n",
       "    <tr>\n",
       "      <th>22</th>\n",
       "      <td>Canada</td>\n",
       "      <td>8</td>\n",
       "    </tr>\n",
       "    <tr>\n",
       "      <th>23</th>\n",
       "      <td>USA</td>\n",
       "      <td>13</td>\n",
       "    </tr>\n",
       "  </tbody>\n",
       "</table>\n",
       "</div>"
      ],
      "text/plain": [
       "           country  number_of_customer\n",
       "0        Argentina                   1\n",
       "1        Australia                   1\n",
       "2          Austria                   1\n",
       "3          Belgium                   1\n",
       "4            Chile                   1\n",
       "5          Denmark                   1\n",
       "6          Finland                   1\n",
       "7          Hungary                   1\n",
       "8          Ireland                   1\n",
       "9            Italy                   1\n",
       "10     Netherlands                   1\n",
       "11          Norway                   1\n",
       "12          Poland                   1\n",
       "13           Spain                   1\n",
       "14          Sweden                   1\n",
       "15  Czech Republic                   2\n",
       "16           India                   2\n",
       "17        Portugal                   2\n",
       "18  United Kingdom                   3\n",
       "19         Germany                   4\n",
       "20          Brazil                   5\n",
       "21          France                   5\n",
       "22          Canada                   8\n",
       "23             USA                  13"
      ]
     },
     "execution_count": 11,
     "metadata": {},
     "output_type": "execute_result"
    }
   ],
   "source": [
    "q = '''\n",
    "    SELECT\n",
    "        country,\n",
    "        COUNT(customer_id) number_of_customer\n",
    "    FROM customer\n",
    "    GROUP BY country\n",
    "    ORDER BY 2 ASC\n",
    "'''\n",
    "run_query(q)"
   ]
  },
  {
   "cell_type": "markdown",
   "metadata": {},
   "source": [
    "Categorize countries which have only one customer as \"Other\" and list them in the bottom."
   ]
  },
  {
   "cell_type": "code",
   "execution_count": 12,
   "metadata": {},
   "outputs": [],
   "source": [
    "c = '''\n",
    "CREATE VIEW data_each_country AS\n",
    "    SELECT\n",
    "        c.country,\n",
    "        cc.number_of_customer,\n",
    "        COUNT(i.invoice_id) Total_invoice,\n",
    "        SUM(i.total) Total_sales\n",
    "    FROM customer c\n",
    "    INNER JOIN invoice i\n",
    "    ON c.customer_id = i.customer_id\n",
    "    LEFT JOIN (\n",
    "        SELECT\n",
    "        country,\n",
    "        COUNT(customer_id) number_of_customer\n",
    "        FROM customer\n",
    "        GROUP BY country\n",
    "        ORDER BY 2 ASC\n",
    "    ) cc\n",
    "    ON cc.country = c.country\n",
    "    GROUP BY 1\n",
    "    ORDER BY 1\n",
    "'''\n",
    "run_command(c)"
   ]
  },
  {
   "cell_type": "code",
   "execution_count": 13,
   "metadata": {},
   "outputs": [
    {
     "data": {
      "text/html": [
       "<div>\n",
       "<table border=\"1\" class=\"dataframe\">\n",
       "  <thead>\n",
       "    <tr style=\"text-align: right;\">\n",
       "      <th></th>\n",
       "      <th>country</th>\n",
       "      <th>number_of_customer</th>\n",
       "      <th>Total_invoice</th>\n",
       "      <th>Total_sales</th>\n",
       "    </tr>\n",
       "  </thead>\n",
       "  <tbody>\n",
       "    <tr>\n",
       "      <th>0</th>\n",
       "      <td>Argentina</td>\n",
       "      <td>1</td>\n",
       "      <td>5</td>\n",
       "      <td>39.60</td>\n",
       "    </tr>\n",
       "    <tr>\n",
       "      <th>1</th>\n",
       "      <td>Australia</td>\n",
       "      <td>1</td>\n",
       "      <td>10</td>\n",
       "      <td>81.18</td>\n",
       "    </tr>\n",
       "    <tr>\n",
       "      <th>2</th>\n",
       "      <td>Austria</td>\n",
       "      <td>1</td>\n",
       "      <td>9</td>\n",
       "      <td>69.30</td>\n",
       "    </tr>\n",
       "    <tr>\n",
       "      <th>3</th>\n",
       "      <td>Belgium</td>\n",
       "      <td>1</td>\n",
       "      <td>7</td>\n",
       "      <td>60.39</td>\n",
       "    </tr>\n",
       "    <tr>\n",
       "      <th>4</th>\n",
       "      <td>Brazil</td>\n",
       "      <td>5</td>\n",
       "      <td>61</td>\n",
       "      <td>427.68</td>\n",
       "    </tr>\n",
       "    <tr>\n",
       "      <th>5</th>\n",
       "      <td>Canada</td>\n",
       "      <td>8</td>\n",
       "      <td>76</td>\n",
       "      <td>535.59</td>\n",
       "    </tr>\n",
       "    <tr>\n",
       "      <th>6</th>\n",
       "      <td>Chile</td>\n",
       "      <td>1</td>\n",
       "      <td>13</td>\n",
       "      <td>97.02</td>\n",
       "    </tr>\n",
       "    <tr>\n",
       "      <th>7</th>\n",
       "      <td>Czech Republic</td>\n",
       "      <td>2</td>\n",
       "      <td>30</td>\n",
       "      <td>273.24</td>\n",
       "    </tr>\n",
       "    <tr>\n",
       "      <th>8</th>\n",
       "      <td>Denmark</td>\n",
       "      <td>1</td>\n",
       "      <td>10</td>\n",
       "      <td>37.62</td>\n",
       "    </tr>\n",
       "    <tr>\n",
       "      <th>9</th>\n",
       "      <td>Finland</td>\n",
       "      <td>1</td>\n",
       "      <td>11</td>\n",
       "      <td>79.20</td>\n",
       "    </tr>\n",
       "  </tbody>\n",
       "</table>\n",
       "</div>"
      ],
      "text/plain": [
       "          country  number_of_customer  Total_invoice  Total_sales\n",
       "0       Argentina                   1              5        39.60\n",
       "1       Australia                   1             10        81.18\n",
       "2         Austria                   1              9        69.30\n",
       "3         Belgium                   1              7        60.39\n",
       "4          Brazil                   5             61       427.68\n",
       "5          Canada                   8             76       535.59\n",
       "6           Chile                   1             13        97.02\n",
       "7  Czech Republic                   2             30       273.24\n",
       "8         Denmark                   1             10        37.62\n",
       "9         Finland                   1             11        79.20"
      ]
     },
     "execution_count": 13,
     "metadata": {},
     "output_type": "execute_result"
    }
   ],
   "source": [
    "q = '''\n",
    "    SELECT * FROM data_each_country\n",
    "    LIMIT 10\n",
    ";\n",
    "'''\n",
    "run_query(q)"
   ]
  },
  {
   "cell_type": "code",
   "execution_count": 14,
   "metadata": {},
   "outputs": [
    {
     "data": {
      "text/html": [
       "<div>\n",
       "<table border=\"1\" class=\"dataframe\">\n",
       "  <thead>\n",
       "    <tr style=\"text-align: right;\">\n",
       "      <th></th>\n",
       "      <th>country</th>\n",
       "      <th>number_of_customer</th>\n",
       "      <th>Total_sales</th>\n",
       "      <th>ave_sales_per_customer</th>\n",
       "      <th>ave_order</th>\n",
       "    </tr>\n",
       "  </thead>\n",
       "  <tbody>\n",
       "    <tr>\n",
       "      <th>0</th>\n",
       "      <td>USA</td>\n",
       "      <td>13</td>\n",
       "      <td>1040.49</td>\n",
       "      <td>80.037692</td>\n",
       "      <td>10.076923</td>\n",
       "    </tr>\n",
       "    <tr>\n",
       "      <th>1</th>\n",
       "      <td>Canada</td>\n",
       "      <td>8</td>\n",
       "      <td>535.59</td>\n",
       "      <td>66.948750</td>\n",
       "      <td>9.500000</td>\n",
       "    </tr>\n",
       "    <tr>\n",
       "      <th>2</th>\n",
       "      <td>Brazil</td>\n",
       "      <td>5</td>\n",
       "      <td>427.68</td>\n",
       "      <td>85.536000</td>\n",
       "      <td>12.200000</td>\n",
       "    </tr>\n",
       "    <tr>\n",
       "      <th>3</th>\n",
       "      <td>France</td>\n",
       "      <td>5</td>\n",
       "      <td>389.07</td>\n",
       "      <td>77.814000</td>\n",
       "      <td>10.000000</td>\n",
       "    </tr>\n",
       "    <tr>\n",
       "      <th>4</th>\n",
       "      <td>Germany</td>\n",
       "      <td>4</td>\n",
       "      <td>334.62</td>\n",
       "      <td>83.655000</td>\n",
       "      <td>10.250000</td>\n",
       "    </tr>\n",
       "    <tr>\n",
       "      <th>5</th>\n",
       "      <td>Czech Republic</td>\n",
       "      <td>2</td>\n",
       "      <td>273.24</td>\n",
       "      <td>136.620000</td>\n",
       "      <td>15.000000</td>\n",
       "    </tr>\n",
       "    <tr>\n",
       "      <th>6</th>\n",
       "      <td>United Kingdom</td>\n",
       "      <td>3</td>\n",
       "      <td>245.52</td>\n",
       "      <td>81.840000</td>\n",
       "      <td>9.333333</td>\n",
       "    </tr>\n",
       "    <tr>\n",
       "      <th>7</th>\n",
       "      <td>Portugal</td>\n",
       "      <td>2</td>\n",
       "      <td>185.13</td>\n",
       "      <td>92.565000</td>\n",
       "      <td>14.500000</td>\n",
       "    </tr>\n",
       "    <tr>\n",
       "      <th>8</th>\n",
       "      <td>India</td>\n",
       "      <td>2</td>\n",
       "      <td>183.15</td>\n",
       "      <td>91.575000</td>\n",
       "      <td>10.500000</td>\n",
       "    </tr>\n",
       "    <tr>\n",
       "      <th>9</th>\n",
       "      <td>Ireland</td>\n",
       "      <td>1</td>\n",
       "      <td>114.84</td>\n",
       "      <td>114.840000</td>\n",
       "      <td>13.000000</td>\n",
       "    </tr>\n",
       "    <tr>\n",
       "      <th>10</th>\n",
       "      <td>Spain</td>\n",
       "      <td>1</td>\n",
       "      <td>98.01</td>\n",
       "      <td>98.010000</td>\n",
       "      <td>11.000000</td>\n",
       "    </tr>\n",
       "    <tr>\n",
       "      <th>11</th>\n",
       "      <td>Chile</td>\n",
       "      <td>1</td>\n",
       "      <td>97.02</td>\n",
       "      <td>97.020000</td>\n",
       "      <td>13.000000</td>\n",
       "    </tr>\n",
       "    <tr>\n",
       "      <th>12</th>\n",
       "      <td>Australia</td>\n",
       "      <td>1</td>\n",
       "      <td>81.18</td>\n",
       "      <td>81.180000</td>\n",
       "      <td>10.000000</td>\n",
       "    </tr>\n",
       "    <tr>\n",
       "      <th>13</th>\n",
       "      <td>Finland</td>\n",
       "      <td>1</td>\n",
       "      <td>79.20</td>\n",
       "      <td>79.200000</td>\n",
       "      <td>11.000000</td>\n",
       "    </tr>\n",
       "    <tr>\n",
       "      <th>14</th>\n",
       "      <td>Hungary</td>\n",
       "      <td>1</td>\n",
       "      <td>78.21</td>\n",
       "      <td>78.210000</td>\n",
       "      <td>10.000000</td>\n",
       "    </tr>\n",
       "    <tr>\n",
       "      <th>15</th>\n",
       "      <td>Poland</td>\n",
       "      <td>1</td>\n",
       "      <td>76.23</td>\n",
       "      <td>76.230000</td>\n",
       "      <td>10.000000</td>\n",
       "    </tr>\n",
       "    <tr>\n",
       "      <th>16</th>\n",
       "      <td>Sweden</td>\n",
       "      <td>1</td>\n",
       "      <td>75.24</td>\n",
       "      <td>75.240000</td>\n",
       "      <td>10.000000</td>\n",
       "    </tr>\n",
       "    <tr>\n",
       "      <th>17</th>\n",
       "      <td>Norway</td>\n",
       "      <td>1</td>\n",
       "      <td>72.27</td>\n",
       "      <td>72.270000</td>\n",
       "      <td>9.000000</td>\n",
       "    </tr>\n",
       "    <tr>\n",
       "      <th>18</th>\n",
       "      <td>Austria</td>\n",
       "      <td>1</td>\n",
       "      <td>69.30</td>\n",
       "      <td>69.300000</td>\n",
       "      <td>9.000000</td>\n",
       "    </tr>\n",
       "    <tr>\n",
       "      <th>19</th>\n",
       "      <td>Netherlands</td>\n",
       "      <td>1</td>\n",
       "      <td>65.34</td>\n",
       "      <td>65.340000</td>\n",
       "      <td>10.000000</td>\n",
       "    </tr>\n",
       "    <tr>\n",
       "      <th>20</th>\n",
       "      <td>Belgium</td>\n",
       "      <td>1</td>\n",
       "      <td>60.39</td>\n",
       "      <td>60.390000</td>\n",
       "      <td>7.000000</td>\n",
       "    </tr>\n",
       "    <tr>\n",
       "      <th>21</th>\n",
       "      <td>Italy</td>\n",
       "      <td>1</td>\n",
       "      <td>50.49</td>\n",
       "      <td>50.490000</td>\n",
       "      <td>9.000000</td>\n",
       "    </tr>\n",
       "    <tr>\n",
       "      <th>22</th>\n",
       "      <td>Argentina</td>\n",
       "      <td>1</td>\n",
       "      <td>39.60</td>\n",
       "      <td>39.600000</td>\n",
       "      <td>5.000000</td>\n",
       "    </tr>\n",
       "    <tr>\n",
       "      <th>23</th>\n",
       "      <td>Denmark</td>\n",
       "      <td>1</td>\n",
       "      <td>37.62</td>\n",
       "      <td>37.620000</td>\n",
       "      <td>10.000000</td>\n",
       "    </tr>\n",
       "  </tbody>\n",
       "</table>\n",
       "</div>"
      ],
      "text/plain": [
       "           country  number_of_customer  Total_sales  ave_sales_per_customer  \\\n",
       "0              USA                  13      1040.49               80.037692   \n",
       "1           Canada                   8       535.59               66.948750   \n",
       "2           Brazil                   5       427.68               85.536000   \n",
       "3           France                   5       389.07               77.814000   \n",
       "4          Germany                   4       334.62               83.655000   \n",
       "5   Czech Republic                   2       273.24              136.620000   \n",
       "6   United Kingdom                   3       245.52               81.840000   \n",
       "7         Portugal                   2       185.13               92.565000   \n",
       "8            India                   2       183.15               91.575000   \n",
       "9          Ireland                   1       114.84              114.840000   \n",
       "10           Spain                   1        98.01               98.010000   \n",
       "11           Chile                   1        97.02               97.020000   \n",
       "12       Australia                   1        81.18               81.180000   \n",
       "13         Finland                   1        79.20               79.200000   \n",
       "14         Hungary                   1        78.21               78.210000   \n",
       "15          Poland                   1        76.23               76.230000   \n",
       "16          Sweden                   1        75.24               75.240000   \n",
       "17          Norway                   1        72.27               72.270000   \n",
       "18         Austria                   1        69.30               69.300000   \n",
       "19     Netherlands                   1        65.34               65.340000   \n",
       "20         Belgium                   1        60.39               60.390000   \n",
       "21           Italy                   1        50.49               50.490000   \n",
       "22       Argentina                   1        39.60               39.600000   \n",
       "23         Denmark                   1        37.62               37.620000   \n",
       "\n",
       "    ave_order  \n",
       "0   10.076923  \n",
       "1    9.500000  \n",
       "2   12.200000  \n",
       "3   10.000000  \n",
       "4   10.250000  \n",
       "5   15.000000  \n",
       "6    9.333333  \n",
       "7   14.500000  \n",
       "8   10.500000  \n",
       "9   13.000000  \n",
       "10  11.000000  \n",
       "11  13.000000  \n",
       "12  10.000000  \n",
       "13  11.000000  \n",
       "14  10.000000  \n",
       "15  10.000000  \n",
       "16  10.000000  \n",
       "17   9.000000  \n",
       "18   9.000000  \n",
       "19  10.000000  \n",
       "20   7.000000  \n",
       "21   9.000000  \n",
       "22   5.000000  \n",
       "23  10.000000  "
      ]
     },
     "execution_count": 14,
     "metadata": {},
     "output_type": "execute_result"
    }
   ],
   "source": [
    "q = '''\n",
    "    SELECT\n",
    "        country,\n",
    "        number_of_customer,\n",
    "        Total_sales,\n",
    "        Total_sales/number_of_customer ave_sales_per_customer,\n",
    "        Total_invoice*1.0/number_of_customer ave_order\n",
    "    FROM (\n",
    "        SELECT\n",
    "            dc.*,\n",
    "            CASE\n",
    "                WHEN dc.number_of_customer = 1 THEN 1\n",
    "                ELSE 0\n",
    "            END AS sort\n",
    "        FROM data_each_country dc\n",
    "        )\n",
    "    ORDER BY sort ASC, Total_sales DESC\n",
    ";\n",
    "'''\n",
    "run_query(q)"
   ]
  },
  {
   "cell_type": "code",
   "execution_count": 15,
   "metadata": {},
   "outputs": [
    {
     "data": {
      "text/plain": [
       "array([<matplotlib.axes._subplots.AxesSubplot object at 0x7f1be5facbe0>,\n",
       "       <matplotlib.axes._subplots.AxesSubplot object at 0x7f1be5ee1278>,\n",
       "       <matplotlib.axes._subplots.AxesSubplot object at 0x7f1be5eab198>,\n",
       "       <matplotlib.axes._subplots.AxesSubplot object at 0x7f1be5e6a828>], dtype=object)"
      ]
     },
     "execution_count": 15,
     "metadata": {},
     "output_type": "execute_result"
    },
    {
     "data": {
      "image/png": "[encoded data removed]",
      "text/plain": [
       "<matplotlib.figure.Figure at 0x7f1be5f76cf8>"
      ]
     },
     "metadata": {},
     "output_type": "display_data"
    }
   ],
   "source": [
    "sales_country = run_query(q)\n",
    "\n",
    "sales_country.plot(x=\"country\",\n",
    "                   y=[\"Total_sales\",\"number_of_customer\",\n",
    "                      \"ave_sales_per_customer\", \"ave_order\"], \n",
    "                   kind=\"bar\", figsize=(10,10), subplots=True)"
   ]
  },
  {
   "cell_type": "markdown",
   "metadata": {},
   "source": [
    "Findings\n",
    "<ul>\n",
    "    <li>The number of order for each country is almost same.</li>\n",
    "    <li>The number of average sales per customer for each country is almost same except Czech Republic.</li>\n",
    "    <li>Average sales per customer for Czech Republic is almost twice as other countries.</li>\n",
    "</ul>\n",
    "Because of the findings, total sales has arelationship with the number of customers. Thus USA is a prominent country for more sales growth. In addition to this, since its average sales per customer is big, Czech Republic could be also a prominent country. (More data is needed.)"
   ]
  },
  {
   "cell_type": "markdown",
   "metadata": {
    "collapsed": true
   },
   "source": [
    "<h3>4. Purchaces of individual tracks vs tracks as an album</h3>"
   ]
  },
  {
   "cell_type": "code",
   "execution_count": 16,
   "metadata": {},
   "outputs": [
    {
     "data": {
      "text/html": [
       "<div>\n",
       "<table border=\"1\" class=\"dataframe\">\n",
       "  <thead>\n",
       "    <tr style=\"text-align: right;\">\n",
       "      <th></th>\n",
       "      <th>COUNT(DISTINCT invoice_id)</th>\n",
       "    </tr>\n",
       "  </thead>\n",
       "  <tbody>\n",
       "    <tr>\n",
       "      <th>0</th>\n",
       "      <td>614</td>\n",
       "    </tr>\n",
       "  </tbody>\n",
       "</table>\n",
       "</div>"
      ],
      "text/plain": [
       "   COUNT(DISTINCT invoice_id)\n",
       "0                         614"
      ]
     },
     "execution_count": 16,
     "metadata": {},
     "output_type": "execute_result"
    }
   ],
   "source": [
    "q = '''\n",
    "    SELECT\n",
    "        COUNT(DISTINCT invoice_id)\n",
    "    FROM invoice_line\n",
    ";\n",
    "'''\n",
    "run_query(q)"
   ]
  },
  {
   "cell_type": "markdown",
   "metadata": {},
   "source": [
    "From above, there are 614 unique invoice IDs. I will check whether each invoice includes one album ID or not."
   ]
  },
  {
   "cell_type": "code",
   "execution_count": 17,
   "metadata": {},
   "outputs": [],
   "source": [
    "# Create a View including invoice_id, track_id, and album_id.\n",
    "\n",
    "c = '''\n",
    "CREATE VIEW invoices AS\n",
    "    SELECT\n",
    "        i.invoice_id,\n",
    "        t.track_id,\n",
    "        t.album_id\n",
    "    FROM invoice_line i\n",
    "    INNER JOIN track t\n",
    "    ON i.track_id = t.track_id\n",
    ";\n",
    "'''\n",
    "run_command(c)"
   ]
  },
  {
   "cell_type": "code",
   "execution_count": 18,
   "metadata": {},
   "outputs": [
    {
     "data": {
      "text/html": [
       "<div>\n",
       "<table border=\"1\" class=\"dataframe\">\n",
       "  <thead>\n",
       "    <tr style=\"text-align: right;\">\n",
       "      <th></th>\n",
       "      <th>invoice_id</th>\n",
       "      <th>track_id</th>\n",
       "      <th>album_id</th>\n",
       "    </tr>\n",
       "  </thead>\n",
       "  <tbody>\n",
       "    <tr>\n",
       "      <th>0</th>\n",
       "      <td>1</td>\n",
       "      <td>1158</td>\n",
       "      <td>91</td>\n",
       "    </tr>\n",
       "    <tr>\n",
       "      <th>1</th>\n",
       "      <td>1</td>\n",
       "      <td>1159</td>\n",
       "      <td>91</td>\n",
       "    </tr>\n",
       "    <tr>\n",
       "      <th>2</th>\n",
       "      <td>1</td>\n",
       "      <td>1160</td>\n",
       "      <td>91</td>\n",
       "    </tr>\n",
       "    <tr>\n",
       "      <th>3</th>\n",
       "      <td>1</td>\n",
       "      <td>1161</td>\n",
       "      <td>91</td>\n",
       "    </tr>\n",
       "    <tr>\n",
       "      <th>4</th>\n",
       "      <td>1</td>\n",
       "      <td>1162</td>\n",
       "      <td>91</td>\n",
       "    </tr>\n",
       "  </tbody>\n",
       "</table>\n",
       "</div>"
      ],
      "text/plain": [
       "   invoice_id  track_id  album_id\n",
       "0           1      1158        91\n",
       "1           1      1159        91\n",
       "2           1      1160        91\n",
       "3           1      1161        91\n",
       "4           1      1162        91"
      ]
     },
     "execution_count": 18,
     "metadata": {},
     "output_type": "execute_result"
    }
   ],
   "source": [
    "q = '''\n",
    "    SELECT * FROM invoices\n",
    ";'''\n",
    "invoices = run_query(q)\n",
    "run_query(q).head()"
   ]
  },
  {
   "cell_type": "code",
   "execution_count": 19,
   "metadata": {},
   "outputs": [],
   "source": [
    "# Create a View including track_id and album_id.\n",
    "\n",
    "c = '''\n",
    "CREATE VIEW tracks AS\n",
    "    SELECT\n",
    "        t.track_id,\n",
    "        a.album_id\n",
    "    FROM track t\n",
    "    LEFT JOIN album a\n",
    "    ON t.album_id = a.album_id \n",
    ";\n",
    "'''\n",
    "run_command(c)"
   ]
  },
  {
   "cell_type": "code",
   "execution_count": 20,
   "metadata": {
    "scrolled": false
   },
   "outputs": [
    {
     "data": {
      "text/html": [
       "<div>\n",
       "<table border=\"1\" class=\"dataframe\">\n",
       "  <thead>\n",
       "    <tr style=\"text-align: right;\">\n",
       "      <th></th>\n",
       "      <th>track_id</th>\n",
       "      <th>album_id</th>\n",
       "    </tr>\n",
       "  </thead>\n",
       "  <tbody>\n",
       "    <tr>\n",
       "      <th>0</th>\n",
       "      <td>1158</td>\n",
       "      <td>91</td>\n",
       "    </tr>\n",
       "    <tr>\n",
       "      <th>1</th>\n",
       "      <td>1159</td>\n",
       "      <td>91</td>\n",
       "    </tr>\n",
       "    <tr>\n",
       "      <th>2</th>\n",
       "      <td>1160</td>\n",
       "      <td>91</td>\n",
       "    </tr>\n",
       "    <tr>\n",
       "      <th>3</th>\n",
       "      <td>1161</td>\n",
       "      <td>91</td>\n",
       "    </tr>\n",
       "    <tr>\n",
       "      <th>4</th>\n",
       "      <td>1162</td>\n",
       "      <td>91</td>\n",
       "    </tr>\n",
       "    <tr>\n",
       "      <th>5</th>\n",
       "      <td>1163</td>\n",
       "      <td>91</td>\n",
       "    </tr>\n",
       "    <tr>\n",
       "      <th>6</th>\n",
       "      <td>1164</td>\n",
       "      <td>91</td>\n",
       "    </tr>\n",
       "    <tr>\n",
       "      <th>7</th>\n",
       "      <td>1165</td>\n",
       "      <td>91</td>\n",
       "    </tr>\n",
       "    <tr>\n",
       "      <th>8</th>\n",
       "      <td>1166</td>\n",
       "      <td>91</td>\n",
       "    </tr>\n",
       "    <tr>\n",
       "      <th>9</th>\n",
       "      <td>1167</td>\n",
       "      <td>91</td>\n",
       "    </tr>\n",
       "    <tr>\n",
       "      <th>10</th>\n",
       "      <td>1168</td>\n",
       "      <td>91</td>\n",
       "    </tr>\n",
       "    <tr>\n",
       "      <th>11</th>\n",
       "      <td>1169</td>\n",
       "      <td>91</td>\n",
       "    </tr>\n",
       "    <tr>\n",
       "      <th>12</th>\n",
       "      <td>1170</td>\n",
       "      <td>91</td>\n",
       "    </tr>\n",
       "    <tr>\n",
       "      <th>13</th>\n",
       "      <td>1171</td>\n",
       "      <td>91</td>\n",
       "    </tr>\n",
       "    <tr>\n",
       "      <th>14</th>\n",
       "      <td>1172</td>\n",
       "      <td>91</td>\n",
       "    </tr>\n",
       "    <tr>\n",
       "      <th>15</th>\n",
       "      <td>1173</td>\n",
       "      <td>91</td>\n",
       "    </tr>\n",
       "  </tbody>\n",
       "</table>\n",
       "</div>"
      ],
      "text/plain": [
       "    track_id  album_id\n",
       "0       1158        91\n",
       "1       1159        91\n",
       "2       1160        91\n",
       "3       1161        91\n",
       "4       1162        91\n",
       "5       1163        91\n",
       "6       1164        91\n",
       "7       1165        91\n",
       "8       1166        91\n",
       "9       1167        91\n",
       "10      1168        91\n",
       "11      1169        91\n",
       "12      1170        91\n",
       "13      1171        91\n",
       "14      1172        91\n",
       "15      1173        91"
      ]
     },
     "execution_count": 20,
     "metadata": {},
     "output_type": "execute_result"
    }
   ],
   "source": [
    "q = '''\n",
    "    SELECT * FROM tracks\n",
    "    WHERE album_id = 91\n",
    ";\n",
    "'''\n",
    "run_query(q)"
   ]
  },
  {
   "cell_type": "markdown",
   "metadata": {},
   "source": [
    "From above, an invoice (ID = 1) might be a purchace of tracks as an album. Thus, for instance, I will compare a table with invoice ID = 1 to a table with album_id = 91."
   ]
  },
  {
   "cell_type": "code",
   "execution_count": 21,
   "metadata": {},
   "outputs": [
    {
     "data": {
      "text/html": [
       "<div>\n",
       "<table border=\"1\" class=\"dataframe\">\n",
       "  <thead>\n",
       "    <tr style=\"text-align: right;\">\n",
       "      <th></th>\n",
       "      <th>invoice_id</th>\n",
       "      <th>judge</th>\n",
       "    </tr>\n",
       "  </thead>\n",
       "  <tbody>\n",
       "    <tr>\n",
       "      <th>0</th>\n",
       "      <td>1</td>\n",
       "      <td>1</td>\n",
       "    </tr>\n",
       "  </tbody>\n",
       "</table>\n",
       "</div>"
      ],
      "text/plain": [
       "   invoice_id  judge\n",
       "0           1      1"
      ]
     },
     "execution_count": 21,
     "metadata": {},
     "output_type": "execute_result"
    }
   ],
   "source": [
    "# If two tables are identical, 1 will be assinged to judge column.\n",
    "# If not, 0 will be assigned.\n",
    "\n",
    "q = '''\n",
    "    SELECT\n",
    "    invoice_id,\n",
    "        CASE \n",
    "            WHEN(\n",
    "                (\n",
    "                SELECT track_id FROM invoices\n",
    "                WHERE invoice_id = 1\n",
    "                EXCEPT\n",
    "                SELECT track_id FROM tracks\n",
    "                WHERE album_id = 91\n",
    "                ) IS NULL\n",
    "                AND\n",
    "                (\n",
    "                SELECT track_id FROM tracks\n",
    "                WHERE album_id = 91\n",
    "                EXCEPT\n",
    "                SELECT track_id FROM invoices\n",
    "                WHERE invoice_id = 1\n",
    "                ) IS NULL\n",
    "            ) THEN 1\n",
    "        ELSE 0\n",
    "        END AS judge\n",
    "    FROM invoices\n",
    "    GROUP BY invoice_id\n",
    "    HAVING invoice_id = 1\n",
    ";\n",
    "'''\n",
    "run_query(q)"
   ]
  },
  {
   "cell_type": "markdown",
   "metadata": {},
   "source": [
    "The invoice (invoice_id = 1) is a whole album sales.<br>\n",
    "To check all the invoices, get a list of album_id for each invoice."
   ]
  },
  {
   "cell_type": "code",
   "execution_count": 22,
   "metadata": {
    "collapsed": true
   },
   "outputs": [],
   "source": [
    "# Create a function to check if two tables are identical or not.\n",
    "\n",
    "def check_tracks(invoice_id, album_id):\n",
    "    invoice_id = str(invoice_id)\n",
    "    album_id = str(album_id)\n",
    "    \n",
    "    q = '''\n",
    "            SELECT\n",
    "        invoice_id,\n",
    "        CASE \n",
    "            WHEN(\n",
    "                (\n",
    "                SELECT track_id FROM invoices\n",
    "                WHERE invoice_id = ''' + invoice_id + '''\n",
    "                EXCEPT\n",
    "                SELECT track_id FROM tracks\n",
    "                WHERE album_id = ''' + album_id + '''\n",
    "                ) IS NULL\n",
    "                AND\n",
    "                (\n",
    "                SELECT track_id FROM tracks\n",
    "                WHERE album_id = ''' + album_id + '''\n",
    "                EXCEPT\n",
    "                SELECT track_id FROM invoices\n",
    "                WHERE invoice_id = ''' + invoice_id + '''\n",
    "                ) IS NULL\n",
    "            ) THEN 1\n",
    "        ELSE 0\n",
    "        END AS judge\n",
    "    FROM invoices\n",
    "    GROUP BY invoice_id\n",
    "    HAVING invoice_id = ''' + invoice_id + '''\n",
    "    ;\n",
    "    '''\n",
    "    return run_query(q)\n",
    "    "
   ]
  },
  {
   "cell_type": "code",
   "execution_count": 23,
   "metadata": {},
   "outputs": [
    {
     "data": {
      "text/html": [
       "<div>\n",
       "<table border=\"1\" class=\"dataframe\">\n",
       "  <thead>\n",
       "    <tr style=\"text-align: right;\">\n",
       "      <th></th>\n",
       "      <th>invoice_id</th>\n",
       "      <th>judge</th>\n",
       "    </tr>\n",
       "  </thead>\n",
       "  <tbody>\n",
       "    <tr>\n",
       "      <th>0</th>\n",
       "      <td>1</td>\n",
       "      <td>1</td>\n",
       "    </tr>\n",
       "  </tbody>\n",
       "</table>\n",
       "</div>"
      ],
      "text/plain": [
       "   invoice_id  judge\n",
       "0           1      1"
      ]
     },
     "execution_count": 23,
     "metadata": {},
     "output_type": "execute_result"
    }
   ],
   "source": [
    "# Check if the function works properly.\n",
    "\n",
    "check_tracks(1,91)"
   ]
  },
  {
   "cell_type": "code",
   "execution_count": 24,
   "metadata": {},
   "outputs": [],
   "source": [
    "# use a for loop for each invoice ID and check if it is about a purchace of a whole album.\n",
    "# If it is an album sales, add the invoice id in a list.\n",
    "\n",
    "album_purchace = []\n",
    "\n",
    "for i in range(1,615):\n",
    "    \n",
    "    album_ids = invoices[invoices[\"invoice_id\"] == i][\"album_id\"].unique().tolist()\n",
    "    \n",
    "    if len(album_ids) == 1:\n",
    "        result = check_tracks(i, album_ids[0])\n",
    "        if result.loc[0, \"judge\"] == 1:\n",
    "            album_purchace.append(result.loc[0, \"invoice_id\"])"
   ]
  },
  {
   "cell_type": "code",
   "execution_count": 25,
   "metadata": {},
   "outputs": [
    {
     "data": {
      "text/plain": [
       "114"
      ]
     },
     "execution_count": 25,
     "metadata": {},
     "output_type": "execute_result"
    }
   ],
   "source": [
    "len(album_purchace)"
   ]
  },
  {
   "cell_type": "code",
   "execution_count": 26,
   "metadata": {},
   "outputs": [
    {
     "data": {
      "text/plain": [
       "0.18566775244299674"
      ]
     },
     "execution_count": 26,
     "metadata": {},
     "output_type": "execute_result"
    }
   ],
   "source": [
    "114/614"
   ]
  },
  {
   "cell_type": "markdown",
   "metadata": {},
   "source": [
    "From above, 114 invoices are album purchaces. And it is about 19% of the total invoices.<br>\n",
    "Next, I will check the ratio of album purchases."
   ]
  },
  {
   "cell_type": "code",
   "execution_count": 27,
   "metadata": {},
   "outputs": [],
   "source": [
    "q = '''\n",
    "    SELECT\n",
    "        invoice_id,\n",
    "        total\n",
    "    FROM invoice\n",
    ";\n",
    "'''\n",
    "invoice_sales = run_query(q)"
   ]
  },
  {
   "cell_type": "code",
   "execution_count": 28,
   "metadata": {},
   "outputs": [
    {
     "data": {
      "text/plain": [
       "1461.24"
      ]
     },
     "execution_count": 28,
     "metadata": {},
     "output_type": "execute_result"
    }
   ],
   "source": [
    "is_album = invoice_sales[\"invoice_id\"].isin(album_purchace)\n",
    "invoice_sales[is_album][\"total\"].sum()"
   ]
  },
  {
   "cell_type": "code",
   "execution_count": 29,
   "metadata": {},
   "outputs": [
    {
     "data": {
      "text/plain": [
       "4709.4300000000003"
      ]
     },
     "execution_count": 29,
     "metadata": {},
     "output_type": "execute_result"
    }
   ],
   "source": [
    "invoice_sales[\"total\"].sum()"
   ]
  },
  {
   "cell_type": "code",
   "execution_count": 30,
   "metadata": {},
   "outputs": [
    {
     "data": {
      "text/plain": [
       "0.31027958797561489"
      ]
     },
     "execution_count": 30,
     "metadata": {},
     "output_type": "execute_result"
    }
   ],
   "source": [
    "invoice_sales[is_album][\"total\"].sum() / invoice_sales[\"total\"].sum()"
   ]
  },
  {
   "cell_type": "markdown",
   "metadata": {},
   "source": [
    "From above, the sales of album purchace is $1461 and this is 30% of the total sales. If the ratio of album purchaces is increasing, it would be better to focus on album sales."
   ]
  }
 ],
 "metadata": {
  "kernelspec": {
   "display_name": "Python 3",
   "language": "python",
   "name": "python3"
  },
  "language_info": {
   "codemirror_mode": {
    "name": "ipython",
    "version": 3
   },
   "file_extension": ".py",
   "mimetype": "text/x-python",
   "name": "python",
   "nbconvert_exporter": "python",
   "pygments_lexer": "ipython3",
   "version": "3.6.1"
  }
 },
 "nbformat": 4,
 "nbformat_minor": 2
}
